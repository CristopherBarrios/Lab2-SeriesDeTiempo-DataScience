{
 "cells": [
  {
   "cell_type": "markdown",
   "metadata": {},
   "source": [
    "<h1 style=\"text-align:center;\">lab2</h1>\n",
    "<h4 style=\"text-align:center;\">Cristopher Barrios, Josue Sagastume</h4>\n",
    "<h5 style=\"text-align:center;\">4/8/2023</h5>\n"
   ]
  },
  {
   "cell_type": "code",
   "execution_count": 452,
   "metadata": {},
   "outputs": [],
   "source": [
    "import pandas as pd\n",
    "import seaborn as sns\n",
    "import matplotlib.pyplot as plt"
   ]
  },
  {
   "cell_type": "markdown",
   "metadata": {},
   "source": [
    "## Explorando datos"
   ]
  },
  {
   "cell_type": "code",
   "execution_count": 453,
   "metadata": {},
   "outputs": [],
   "source": [
    "importaciones = pd.read_excel('./Data/IMPORTACION-VOLUMEN-2023-05.xlsx', skiprows=6)\n",
    "consumo = pd.read_excel('./Data/CONSUMO-2023-05.xlsx', skiprows=6)\n",
    "precios_2023 = pd.read_excel('./Data/Precios-Promedio-Nacionales-Diarios-2023.xlsx', sheet_name=0, skiprows=7)\n",
    "precios_2022 = pd.read_excel('./Data/Precios-Promedio-Nacionales-Diarios-2023.xlsx', sheet_name=1, skiprows=6)\n",
    "precios_2021 = pd.read_excel('./Data/Precios-Promedio-Nacionales-Diarios-2023.xlsx', sheet_name=2, skiprows=6)\n"
   ]
  },
  {
   "cell_type": "markdown",
   "metadata": {},
   "source": [
    "## columnas"
   ]
  },
  {
   "cell_type": "code",
   "execution_count": 454,
   "metadata": {},
   "outputs": [
    {
     "name": "stdout",
     "output_type": "stream",
     "text": [
      "importaciones\n",
      "Index(['Fecha', 'Aceites lubricantes', 'Asfalto ', 'Bunker', 'Ceras',\n",
      "       'Combustible turbo jet', 'Diesel bajo azufre',\n",
      "       'Diesel ultra bajo azufre', 'Gas licuado de petróleo',\n",
      "       'Gasolina de aviación', 'Gasolina regular', 'Gasolina superior',\n",
      "       'Grasas lubricantes', 'Kerosina', 'Mezclas oleosas', 'Naftas',\n",
      "       'Petcoke', 'Petróleo crudo', 'Solventes', 'Butano',\n",
      "       'Diesel alto azufre', 'MTBE', 'Orimulsión', 'Petróleo reconstituido',\n",
      "       'Total importación'],\n",
      "      dtype='object')\n",
      "consumo\n",
      "Index(['Fecha', 'Aceites lubricantes', 'Asfalto', 'Bunker', 'Ceras',\n",
      "       'Combustible turbo jet', 'Diesel bajo azufre',\n",
      "       'Diesel ultra bajo azufre', 'Gas licuado de petróleo',\n",
      "       'Gasolina de aviación', 'Gasolina regular', 'Gasolina superior',\n",
      "       'Grasas lubricantes', 'Kerosina', 'Mezclas\\noleosas', 'Naftas',\n",
      "       'PetCoke', 'Petróleo crudo', 'Solventes', 'Butano',\n",
      "       'Diesel alto azufre', 'Orimulsión', 'Total'],\n",
      "      dtype='object')\n",
      "precios 2023\n",
      "Index(['FECHA', 'Tipo de Cambio', 'Superior', 'Regular', 'Diesel', 'Bunker',\n",
      "       'Glp Cilindro 25Lbs.', 'Unnamed: 7'],\n",
      "      dtype='object')\n",
      "precios 2022\n",
      "Index(['FECHA', 'Tipo de Cambio', 'Superior', 'Regular', 'Diesel', 'Bunker',\n",
      "       'Glp Cilindro 25Lbs.', 'Unnamed: 7'],\n",
      "      dtype='object')\n",
      "precios 2021\n",
      "Index(['FECHA', 'Tipo de Cambio', 'Superior', 'Regular', 'Diesel', 'Bunker',\n",
      "       'Glp Cilindro 25Lbs.', 'Unnamed: 7'],\n",
      "      dtype='object')\n"
     ]
    }
   ],
   "source": [
    "print(\"importaciones\")\n",
    "print(importaciones.columns)\n",
    "print(\"consumo\")\n",
    "print(consumo.columns)\n",
    "print(\"precios 2023\")\n",
    "print(precios_2023.columns)\n",
    "print(\"precios 2022\")\n",
    "print(precios_2022.columns)\n",
    "print(\"precios 2021\")\n",
    "print(precios_2021.columns)"
   ]
  },
  {
   "cell_type": "code",
   "execution_count": 455,
   "metadata": {},
   "outputs": [
    {
     "data": {
      "text/html": [
       "<div>\n",
       "<style scoped>\n",
       "    .dataframe tbody tr th:only-of-type {\n",
       "        vertical-align: middle;\n",
       "    }\n",
       "\n",
       "    .dataframe tbody tr th {\n",
       "        vertical-align: top;\n",
       "    }\n",
       "\n",
       "    .dataframe thead th {\n",
       "        text-align: right;\n",
       "    }\n",
       "</style>\n",
       "<table border=\"1\" class=\"dataframe\">\n",
       "  <thead>\n",
       "    <tr style=\"text-align: right;\">\n",
       "      <th></th>\n",
       "      <th>Fecha</th>\n",
       "      <th>Aceites lubricantes</th>\n",
       "      <th>Asfalto</th>\n",
       "      <th>Bunker</th>\n",
       "      <th>Ceras</th>\n",
       "      <th>Combustible turbo jet</th>\n",
       "      <th>Diesel bajo azufre</th>\n",
       "      <th>Diesel ultra bajo azufre</th>\n",
       "      <th>Gas licuado de petróleo</th>\n",
       "      <th>Gasolina de aviación</th>\n",
       "      <th>...</th>\n",
       "      <th>Naftas</th>\n",
       "      <th>Petcoke</th>\n",
       "      <th>Petróleo crudo</th>\n",
       "      <th>Solventes</th>\n",
       "      <th>Butano</th>\n",
       "      <th>Diesel alto azufre</th>\n",
       "      <th>MTBE</th>\n",
       "      <th>Orimulsión</th>\n",
       "      <th>Petróleo reconstituido</th>\n",
       "      <th>Total importación</th>\n",
       "    </tr>\n",
       "  </thead>\n",
       "  <tbody>\n",
       "    <tr>\n",
       "      <th>0</th>\n",
       "      <td>2001-01-01 00:00:00</td>\n",
       "      <td>0.0</td>\n",
       "      <td>27748.99</td>\n",
       "      <td>214581.84</td>\n",
       "      <td>0.0</td>\n",
       "      <td>0.0</td>\n",
       "      <td>0.0</td>\n",
       "      <td>0.0</td>\n",
       "      <td>194065.738095</td>\n",
       "      <td>820.0</td>\n",
       "      <td>...</td>\n",
       "      <td>0.0</td>\n",
       "      <td>0.0</td>\n",
       "      <td>0.0</td>\n",
       "      <td>0.0</td>\n",
       "      <td>0.0</td>\n",
       "      <td>566101.99</td>\n",
       "      <td>8402.0</td>\n",
       "      <td>0.0</td>\n",
       "      <td>715344.0</td>\n",
       "      <td>2.312639e+06</td>\n",
       "    </tr>\n",
       "    <tr>\n",
       "      <th>1</th>\n",
       "      <td>2001-02-01 00:00:00</td>\n",
       "      <td>0.0</td>\n",
       "      <td>7503.57</td>\n",
       "      <td>294609.00</td>\n",
       "      <td>0.0</td>\n",
       "      <td>0.0</td>\n",
       "      <td>0.0</td>\n",
       "      <td>0.0</td>\n",
       "      <td>170703.380952</td>\n",
       "      <td>3054.0</td>\n",
       "      <td>...</td>\n",
       "      <td>0.0</td>\n",
       "      <td>0.0</td>\n",
       "      <td>0.0</td>\n",
       "      <td>0.0</td>\n",
       "      <td>0.0</td>\n",
       "      <td>489525.80</td>\n",
       "      <td>0.0</td>\n",
       "      <td>0.0</td>\n",
       "      <td>370166.0</td>\n",
       "      <td>1.769209e+06</td>\n",
       "    </tr>\n",
       "    <tr>\n",
       "      <th>2</th>\n",
       "      <td>2001-03-01 00:00:00</td>\n",
       "      <td>0.0</td>\n",
       "      <td>26304.32</td>\n",
       "      <td>315263.80</td>\n",
       "      <td>0.0</td>\n",
       "      <td>0.0</td>\n",
       "      <td>0.0</td>\n",
       "      <td>0.0</td>\n",
       "      <td>161837.371429</td>\n",
       "      <td>677.0</td>\n",
       "      <td>...</td>\n",
       "      <td>0.0</td>\n",
       "      <td>0.0</td>\n",
       "      <td>0.0</td>\n",
       "      <td>0.0</td>\n",
       "      <td>0.0</td>\n",
       "      <td>575559.68</td>\n",
       "      <td>0.0</td>\n",
       "      <td>0.0</td>\n",
       "      <td>360530.0</td>\n",
       "      <td>1.945770e+06</td>\n",
       "    </tr>\n",
       "    <tr>\n",
       "      <th>3</th>\n",
       "      <td>2001-04-01 00:00:00</td>\n",
       "      <td>0.0</td>\n",
       "      <td>7885.89</td>\n",
       "      <td>205653.00</td>\n",
       "      <td>0.0</td>\n",
       "      <td>0.0</td>\n",
       "      <td>0.0</td>\n",
       "      <td>0.0</td>\n",
       "      <td>163048.642857</td>\n",
       "      <td>3399.0</td>\n",
       "      <td>...</td>\n",
       "      <td>0.0</td>\n",
       "      <td>0.0</td>\n",
       "      <td>0.0</td>\n",
       "      <td>0.0</td>\n",
       "      <td>0.0</td>\n",
       "      <td>437745.42</td>\n",
       "      <td>8184.0</td>\n",
       "      <td>0.0</td>\n",
       "      <td>359527.0</td>\n",
       "      <td>1.623638e+06</td>\n",
       "    </tr>\n",
       "    <tr>\n",
       "      <th>4</th>\n",
       "      <td>2001-05-01 00:00:00</td>\n",
       "      <td>0.0</td>\n",
       "      <td>8443.16</td>\n",
       "      <td>278371.30</td>\n",
       "      <td>0.0</td>\n",
       "      <td>0.0</td>\n",
       "      <td>0.0</td>\n",
       "      <td>0.0</td>\n",
       "      <td>171518.861905</td>\n",
       "      <td>585.0</td>\n",
       "      <td>...</td>\n",
       "      <td>0.0</td>\n",
       "      <td>0.0</td>\n",
       "      <td>0.0</td>\n",
       "      <td>0.0</td>\n",
       "      <td>0.0</td>\n",
       "      <td>552609.13</td>\n",
       "      <td>12680.0</td>\n",
       "      <td>0.0</td>\n",
       "      <td>723346.0</td>\n",
       "      <td>2.262727e+06</td>\n",
       "    </tr>\n",
       "  </tbody>\n",
       "</table>\n",
       "<p>5 rows × 25 columns</p>\n",
       "</div>"
      ],
      "text/plain": [
       "                 Fecha  Aceites lubricantes  Asfalto      Bunker  Ceras  \\\n",
       "0  2001-01-01 00:00:00                  0.0  27748.99  214581.84    0.0   \n",
       "1  2001-02-01 00:00:00                  0.0   7503.57  294609.00    0.0   \n",
       "2  2001-03-01 00:00:00                  0.0  26304.32  315263.80    0.0   \n",
       "3  2001-04-01 00:00:00                  0.0   7885.89  205653.00    0.0   \n",
       "4  2001-05-01 00:00:00                  0.0   8443.16  278371.30    0.0   \n",
       "\n",
       "   Combustible turbo jet  Diesel bajo azufre  Diesel ultra bajo azufre  \\\n",
       "0                    0.0                 0.0                       0.0   \n",
       "1                    0.0                 0.0                       0.0   \n",
       "2                    0.0                 0.0                       0.0   \n",
       "3                    0.0                 0.0                       0.0   \n",
       "4                    0.0                 0.0                       0.0   \n",
       "\n",
       "   Gas licuado de petróleo  Gasolina de aviación  ...  Naftas  Petcoke  \\\n",
       "0            194065.738095                 820.0  ...     0.0      0.0   \n",
       "1            170703.380952                3054.0  ...     0.0      0.0   \n",
       "2            161837.371429                 677.0  ...     0.0      0.0   \n",
       "3            163048.642857                3399.0  ...     0.0      0.0   \n",
       "4            171518.861905                 585.0  ...     0.0      0.0   \n",
       "\n",
       "   Petróleo crudo  Solventes  Butano  Diesel alto azufre     MTBE  Orimulsión  \\\n",
       "0             0.0        0.0     0.0           566101.99   8402.0         0.0   \n",
       "1             0.0        0.0     0.0           489525.80      0.0         0.0   \n",
       "2             0.0        0.0     0.0           575559.68      0.0         0.0   \n",
       "3             0.0        0.0     0.0           437745.42   8184.0         0.0   \n",
       "4             0.0        0.0     0.0           552609.13  12680.0         0.0   \n",
       "\n",
       "   Petróleo reconstituido  Total importación  \n",
       "0                715344.0       2.312639e+06  \n",
       "1                370166.0       1.769209e+06  \n",
       "2                360530.0       1.945770e+06  \n",
       "3                359527.0       1.623638e+06  \n",
       "4                723346.0       2.262727e+06  \n",
       "\n",
       "[5 rows x 25 columns]"
      ]
     },
     "execution_count": 455,
     "metadata": {},
     "output_type": "execute_result"
    }
   ],
   "source": [
    "importaciones.head()"
   ]
  },
  {
   "cell_type": "code",
   "execution_count": 456,
   "metadata": {},
   "outputs": [
    {
     "name": "stdout",
     "output_type": "stream",
     "text": [
      "                 FECHA Tipo de Cambio   Superior    Regular     Diesel  \\\n",
      "0                  NaN        GTQ/USD  GTQ/GALON  GTQ/GALON  GTQ/GALON   \n",
      "1  2023-01-01 00:00:00        7.85222      32.55      30.99      33.75   \n",
      "2  2023-01-02 00:00:00        7.85222      32.55      30.99      33.75   \n",
      "3  2023-01-03 00:00:00        7.84773      32.56      31.42      35.31   \n",
      "4  2023-01-04 00:00:00        7.84906      32.56      31.42      35.31   \n",
      "\n",
      "      Bunker Glp Cilindro 25Lbs. Unnamed: 7  \n",
      "0  GTQ/GALON       GTQ/CIL 25 LB     GTQ/LB  \n",
      "1      15.99                 122       4.88  \n",
      "2      15.99                 122       4.88  \n",
      "3      16.39                 122       4.88  \n",
      "4      16.39                 122       4.88  \n"
     ]
    }
   ],
   "source": [
    "print(precios_2023.head())"
   ]
  },
  {
   "cell_type": "code",
   "execution_count": 457,
   "metadata": {},
   "outputs": [
    {
     "data": {
      "text/html": [
       "<div>\n",
       "<style scoped>\n",
       "    .dataframe tbody tr th:only-of-type {\n",
       "        vertical-align: middle;\n",
       "    }\n",
       "\n",
       "    .dataframe tbody tr th {\n",
       "        vertical-align: top;\n",
       "    }\n",
       "\n",
       "    .dataframe thead th {\n",
       "        text-align: right;\n",
       "    }\n",
       "</style>\n",
       "<table border=\"1\" class=\"dataframe\">\n",
       "  <thead>\n",
       "    <tr style=\"text-align: right;\">\n",
       "      <th></th>\n",
       "      <th>FECHA</th>\n",
       "      <th>Tipo de Cambio</th>\n",
       "      <th>Superior</th>\n",
       "      <th>Regular</th>\n",
       "      <th>Diesel</th>\n",
       "      <th>Bunker</th>\n",
       "      <th>Glp Cilindro 25Lbs.</th>\n",
       "      <th>Unnamed: 7</th>\n",
       "    </tr>\n",
       "  </thead>\n",
       "  <tbody>\n",
       "    <tr>\n",
       "      <th>0</th>\n",
       "      <td>NaN</td>\n",
       "      <td>GTQ/USD</td>\n",
       "      <td>GTQ/GALON</td>\n",
       "      <td>GTQ/GALON</td>\n",
       "      <td>GTQ/GALON</td>\n",
       "      <td>GTQ/GALON</td>\n",
       "      <td>GTQ/CIL 25 LB</td>\n",
       "      <td>GTQ/LB</td>\n",
       "    </tr>\n",
       "    <tr>\n",
       "      <th>1</th>\n",
       "      <td>2022-01-01 00:00:00</td>\n",
       "      <td>7.71912</td>\n",
       "      <td>28.69</td>\n",
       "      <td>27.91</td>\n",
       "      <td>24.51</td>\n",
       "      <td>17.28</td>\n",
       "      <td>122</td>\n",
       "      <td>4.88</td>\n",
       "    </tr>\n",
       "    <tr>\n",
       "      <th>2</th>\n",
       "      <td>2022-01-02 00:00:00</td>\n",
       "      <td>7.71912</td>\n",
       "      <td>28.69</td>\n",
       "      <td>27.91</td>\n",
       "      <td>24.51</td>\n",
       "      <td>17.28</td>\n",
       "      <td>122</td>\n",
       "      <td>4.88</td>\n",
       "    </tr>\n",
       "    <tr>\n",
       "      <th>3</th>\n",
       "      <td>2022-01-03 00:00:00</td>\n",
       "      <td>7.71912</td>\n",
       "      <td>28.79</td>\n",
       "      <td>27.99</td>\n",
       "      <td>24.6</td>\n",
       "      <td>17.91</td>\n",
       "      <td>122</td>\n",
       "      <td>4.88</td>\n",
       "    </tr>\n",
       "    <tr>\n",
       "      <th>4</th>\n",
       "      <td>2022-01-04 00:00:00</td>\n",
       "      <td>7.71745</td>\n",
       "      <td>28.79</td>\n",
       "      <td>27.99</td>\n",
       "      <td>24.6</td>\n",
       "      <td>17.91</td>\n",
       "      <td>122</td>\n",
       "      <td>4.88</td>\n",
       "    </tr>\n",
       "  </tbody>\n",
       "</table>\n",
       "</div>"
      ],
      "text/plain": [
       "                 FECHA Tipo de Cambio   Superior    Regular     Diesel  \\\n",
       "0                  NaN        GTQ/USD  GTQ/GALON  GTQ/GALON  GTQ/GALON   \n",
       "1  2022-01-01 00:00:00        7.71912      28.69      27.91      24.51   \n",
       "2  2022-01-02 00:00:00        7.71912      28.69      27.91      24.51   \n",
       "3  2022-01-03 00:00:00        7.71912      28.79      27.99       24.6   \n",
       "4  2022-01-04 00:00:00        7.71745      28.79      27.99       24.6   \n",
       "\n",
       "      Bunker Glp Cilindro 25Lbs. Unnamed: 7  \n",
       "0  GTQ/GALON       GTQ/CIL 25 LB     GTQ/LB  \n",
       "1      17.28                 122       4.88  \n",
       "2      17.28                 122       4.88  \n",
       "3      17.91                 122       4.88  \n",
       "4      17.91                 122       4.88  "
      ]
     },
     "execution_count": 457,
     "metadata": {},
     "output_type": "execute_result"
    }
   ],
   "source": [
    "precios_2022.head()"
   ]
  },
  {
   "cell_type": "code",
   "execution_count": 458,
   "metadata": {},
   "outputs": [
    {
     "data": {
      "text/html": [
       "<div>\n",
       "<style scoped>\n",
       "    .dataframe tbody tr th:only-of-type {\n",
       "        vertical-align: middle;\n",
       "    }\n",
       "\n",
       "    .dataframe tbody tr th {\n",
       "        vertical-align: top;\n",
       "    }\n",
       "\n",
       "    .dataframe thead th {\n",
       "        text-align: right;\n",
       "    }\n",
       "</style>\n",
       "<table border=\"1\" class=\"dataframe\">\n",
       "  <thead>\n",
       "    <tr style=\"text-align: right;\">\n",
       "      <th></th>\n",
       "      <th>FECHA</th>\n",
       "      <th>Tipo de Cambio</th>\n",
       "      <th>Superior</th>\n",
       "      <th>Regular</th>\n",
       "      <th>Diesel</th>\n",
       "      <th>Bunker</th>\n",
       "      <th>Glp Cilindro 25Lbs.</th>\n",
       "      <th>Unnamed: 7</th>\n",
       "    </tr>\n",
       "  </thead>\n",
       "  <tbody>\n",
       "    <tr>\n",
       "      <th>0</th>\n",
       "      <td>NaN</td>\n",
       "      <td>GTQ/USD</td>\n",
       "      <td>GTQ/GALON</td>\n",
       "      <td>GTQ/GALON</td>\n",
       "      <td>GTQ/GALON</td>\n",
       "      <td>GTQ/GALON</td>\n",
       "      <td>GTQ/CIL 25 LB</td>\n",
       "      <td>GTQ/LB</td>\n",
       "    </tr>\n",
       "    <tr>\n",
       "      <th>1</th>\n",
       "      <td>2021-01-01 00:00:00</td>\n",
       "      <td>7.79382</td>\n",
       "      <td>21.91</td>\n",
       "      <td>21.11</td>\n",
       "      <td>17.61</td>\n",
       "      <td>13.4</td>\n",
       "      <td>99</td>\n",
       "      <td>3.96</td>\n",
       "    </tr>\n",
       "    <tr>\n",
       "      <th>2</th>\n",
       "      <td>2021-01-02 00:00:00</td>\n",
       "      <td>7.79382</td>\n",
       "      <td>21.91</td>\n",
       "      <td>21.11</td>\n",
       "      <td>17.61</td>\n",
       "      <td>13.4</td>\n",
       "      <td>99</td>\n",
       "      <td>3.96</td>\n",
       "    </tr>\n",
       "    <tr>\n",
       "      <th>3</th>\n",
       "      <td>2021-01-03 00:00:00</td>\n",
       "      <td>7.79382</td>\n",
       "      <td>21.91</td>\n",
       "      <td>21.11</td>\n",
       "      <td>17.61</td>\n",
       "      <td>13.4</td>\n",
       "      <td>99</td>\n",
       "      <td>3.96</td>\n",
       "    </tr>\n",
       "    <tr>\n",
       "      <th>4</th>\n",
       "      <td>2021-01-04 00:00:00</td>\n",
       "      <td>7.79417</td>\n",
       "      <td>21.91</td>\n",
       "      <td>21.11</td>\n",
       "      <td>17.61</td>\n",
       "      <td>13.45</td>\n",
       "      <td>99</td>\n",
       "      <td>3.96</td>\n",
       "    </tr>\n",
       "  </tbody>\n",
       "</table>\n",
       "</div>"
      ],
      "text/plain": [
       "                 FECHA Tipo de Cambio   Superior    Regular     Diesel  \\\n",
       "0                  NaN        GTQ/USD  GTQ/GALON  GTQ/GALON  GTQ/GALON   \n",
       "1  2021-01-01 00:00:00        7.79382      21.91      21.11      17.61   \n",
       "2  2021-01-02 00:00:00        7.79382      21.91      21.11      17.61   \n",
       "3  2021-01-03 00:00:00        7.79382      21.91      21.11      17.61   \n",
       "4  2021-01-04 00:00:00        7.79417      21.91      21.11      17.61   \n",
       "\n",
       "      Bunker Glp Cilindro 25Lbs. Unnamed: 7  \n",
       "0  GTQ/GALON       GTQ/CIL 25 LB     GTQ/LB  \n",
       "1       13.4                  99       3.96  \n",
       "2       13.4                  99       3.96  \n",
       "3       13.4                  99       3.96  \n",
       "4      13.45                  99       3.96  "
      ]
     },
     "execution_count": 458,
     "metadata": {},
     "output_type": "execute_result"
    }
   ],
   "source": [
    "precios_2021.head()"
   ]
  },
  {
   "cell_type": "code",
   "execution_count": null,
   "metadata": {},
   "outputs": [],
   "source": []
  },
  {
   "cell_type": "markdown",
   "metadata": {},
   "source": [
    "## Arreglando los datos"
   ]
  },
  {
   "cell_type": "code",
   "execution_count": 459,
   "metadata": {},
   "outputs": [],
   "source": [
    "importaciones.rename(columns={'Gasolina superior': 'Superior','Gasolina regular': 'Regular'}, inplace=True)\n",
    "consumo.rename(columns={'Gasolina superior': 'Superior','Gasolina regular': 'Regular'}, inplace=True)\n",
    "\n"
   ]
  },
  {
   "cell_type": "code",
   "execution_count": 460,
   "metadata": {},
   "outputs": [],
   "source": [
    "Seleccion=['Fecha', 'Superior', 'Regular', 'Diesel alto azufre']\n",
    "SinFecha=['Gasolina superior', 'Gasolina regular', 'Diesel alto azufre']\n",
    "consumas = consumo[Seleccion]\n",
    "importas = importaciones[Seleccion]\n",
    "\n",
    "\n",
    "# a partir de la linea 288 para consumo ya no se toma en relevancia\n",
    "# para importaciones 276\n",
    "consumo = consumo[:288]\n",
    "importaciones = importaciones[:276]\n",
    "consumas = consumas[:270]\n",
    "importas = importas[:270]"
   ]
  },
  {
   "cell_type": "code",
   "execution_count": 461,
   "metadata": {},
   "outputs": [
    {
     "data": {
      "text/html": [
       "<div>\n",
       "<style scoped>\n",
       "    .dataframe tbody tr th:only-of-type {\n",
       "        vertical-align: middle;\n",
       "    }\n",
       "\n",
       "    .dataframe tbody tr th {\n",
       "        vertical-align: top;\n",
       "    }\n",
       "\n",
       "    .dataframe thead th {\n",
       "        text-align: right;\n",
       "    }\n",
       "</style>\n",
       "<table border=\"1\" class=\"dataframe\">\n",
       "  <thead>\n",
       "    <tr style=\"text-align: right;\">\n",
       "      <th></th>\n",
       "      <th>Fecha</th>\n",
       "      <th>Superior</th>\n",
       "      <th>Regular</th>\n",
       "      <th>Diesel alto azufre</th>\n",
       "    </tr>\n",
       "  </thead>\n",
       "  <tbody>\n",
       "    <tr>\n",
       "      <th>0</th>\n",
       "      <td>2000-01-01 00:00:00</td>\n",
       "      <td>308156.82</td>\n",
       "      <td>202645.20</td>\n",
       "      <td>634667.06</td>\n",
       "    </tr>\n",
       "    <tr>\n",
       "      <th>1</th>\n",
       "      <td>2000-02-01 00:00:00</td>\n",
       "      <td>307766.31</td>\n",
       "      <td>205530.96</td>\n",
       "      <td>642380.66</td>\n",
       "    </tr>\n",
       "    <tr>\n",
       "      <th>2</th>\n",
       "      <td>2000-03-01 00:00:00</td>\n",
       "      <td>331910.29</td>\n",
       "      <td>229499.56</td>\n",
       "      <td>699807.25</td>\n",
       "    </tr>\n",
       "    <tr>\n",
       "      <th>3</th>\n",
       "      <td>2000-04-01 00:00:00</td>\n",
       "      <td>315648.08</td>\n",
       "      <td>210680.40</td>\n",
       "      <td>586803.98</td>\n",
       "    </tr>\n",
       "    <tr>\n",
       "      <th>4</th>\n",
       "      <td>2000-05-01 00:00:00</td>\n",
       "      <td>319667.97</td>\n",
       "      <td>208164.34</td>\n",
       "      <td>656948.20</td>\n",
       "    </tr>\n",
       "  </tbody>\n",
       "</table>\n",
       "</div>"
      ],
      "text/plain": [
       "                 Fecha   Superior    Regular  Diesel alto azufre\n",
       "0  2000-01-01 00:00:00  308156.82  202645.20           634667.06\n",
       "1  2000-02-01 00:00:00  307766.31  205530.96           642380.66\n",
       "2  2000-03-01 00:00:00  331910.29  229499.56           699807.25\n",
       "3  2000-04-01 00:00:00  315648.08  210680.40           586803.98\n",
       "4  2000-05-01 00:00:00  319667.97  208164.34           656948.20"
      ]
     },
     "execution_count": 461,
     "metadata": {},
     "output_type": "execute_result"
    }
   ],
   "source": [
    "consumas.head()"
   ]
  },
  {
   "cell_type": "code",
   "execution_count": 462,
   "metadata": {},
   "outputs": [
    {
     "data": {
      "text/html": [
       "<div>\n",
       "<style scoped>\n",
       "    .dataframe tbody tr th:only-of-type {\n",
       "        vertical-align: middle;\n",
       "    }\n",
       "\n",
       "    .dataframe tbody tr th {\n",
       "        vertical-align: top;\n",
       "    }\n",
       "\n",
       "    .dataframe thead th {\n",
       "        text-align: right;\n",
       "    }\n",
       "</style>\n",
       "<table border=\"1\" class=\"dataframe\">\n",
       "  <thead>\n",
       "    <tr style=\"text-align: right;\">\n",
       "      <th></th>\n",
       "      <th>Fecha</th>\n",
       "      <th>Superior</th>\n",
       "      <th>Regular</th>\n",
       "      <th>Diesel alto azufre</th>\n",
       "    </tr>\n",
       "  </thead>\n",
       "  <tbody>\n",
       "    <tr>\n",
       "      <th>0</th>\n",
       "      <td>2001-01-01 00:00:00</td>\n",
       "      <td>373963.96</td>\n",
       "      <td>177776.50</td>\n",
       "      <td>566101.99</td>\n",
       "    </tr>\n",
       "    <tr>\n",
       "      <th>1</th>\n",
       "      <td>2001-02-01 00:00:00</td>\n",
       "      <td>243091.07</td>\n",
       "      <td>123115.99</td>\n",
       "      <td>489525.80</td>\n",
       "    </tr>\n",
       "    <tr>\n",
       "      <th>2</th>\n",
       "      <td>2001-03-01 00:00:00</td>\n",
       "      <td>312084.38</td>\n",
       "      <td>161726.42</td>\n",
       "      <td>575559.68</td>\n",
       "    </tr>\n",
       "    <tr>\n",
       "      <th>3</th>\n",
       "      <td>2001-04-01 00:00:00</td>\n",
       "      <td>285054.89</td>\n",
       "      <td>127338.74</td>\n",
       "      <td>437745.42</td>\n",
       "    </tr>\n",
       "    <tr>\n",
       "      <th>4</th>\n",
       "      <td>2001-05-01 00:00:00</td>\n",
       "      <td>300913.67</td>\n",
       "      <td>168730.19</td>\n",
       "      <td>552609.13</td>\n",
       "    </tr>\n",
       "  </tbody>\n",
       "</table>\n",
       "</div>"
      ],
      "text/plain": [
       "                 Fecha   Superior    Regular  Diesel alto azufre\n",
       "0  2001-01-01 00:00:00  373963.96  177776.50           566101.99\n",
       "1  2001-02-01 00:00:00  243091.07  123115.99           489525.80\n",
       "2  2001-03-01 00:00:00  312084.38  161726.42           575559.68\n",
       "3  2001-04-01 00:00:00  285054.89  127338.74           437745.42\n",
       "4  2001-05-01 00:00:00  300913.67  168730.19           552609.13"
      ]
     },
     "execution_count": 462,
     "metadata": {},
     "output_type": "execute_result"
    }
   ],
   "source": [
    "importas.head()"
   ]
  },
  {
   "cell_type": "code",
   "execution_count": 463,
   "metadata": {},
   "outputs": [
    {
     "name": "stdout",
     "output_type": "stream",
     "text": [
      "<class 'pandas.core.frame.DataFrame'>\n",
      "RangeIndex: 270 entries, 0 to 269\n",
      "Data columns (total 4 columns):\n",
      " #   Column              Non-Null Count  Dtype  \n",
      "---  ------              --------------  -----  \n",
      " 0   Fecha               270 non-null    object \n",
      " 1   Superior            270 non-null    float64\n",
      " 2   Regular             270 non-null    float64\n",
      " 3   Diesel alto azufre  270 non-null    float64\n",
      "dtypes: float64(3), object(1)\n",
      "memory usage: 8.6+ KB\n"
     ]
    }
   ],
   "source": [
    "consumas.info()\n"
   ]
  },
  {
   "cell_type": "code",
   "execution_count": 464,
   "metadata": {},
   "outputs": [
    {
     "name": "stdout",
     "output_type": "stream",
     "text": [
      "<class 'pandas.core.frame.DataFrame'>\n",
      "RangeIndex: 270 entries, 0 to 269\n",
      "Data columns (total 4 columns):\n",
      " #   Column              Non-Null Count  Dtype  \n",
      "---  ------              --------------  -----  \n",
      " 0   Fecha               269 non-null    object \n",
      " 1   Superior            269 non-null    float64\n",
      " 2   Regular             269 non-null    float64\n",
      " 3   Diesel alto azufre  269 non-null    float64\n",
      "dtypes: float64(3), object(1)\n",
      "memory usage: 8.6+ KB\n"
     ]
    }
   ],
   "source": [
    "importas.info()"
   ]
  },
  {
   "cell_type": "markdown",
   "metadata": {},
   "source": [
    "## Ahora precios"
   ]
  },
  {
   "cell_type": "code",
   "execution_count": 465,
   "metadata": {},
   "outputs": [],
   "source": [
    "# Obtener los valores de la fila 0 (nombres de columna alternativos)\n",
    "nombres_columnas_fila_0 = precios_2023.iloc[0]\n",
    "\n",
    "# Crear nuevos nombres de columna combinando los nombres actuales con los de la fila 0\n",
    "nuevos_nombres_columnas = [f\"{nombre_actual} ({nombre_fila_0})\"\n",
    "                            if isinstance(nombre_fila_0, str) else nombre_actual\n",
    "                            for nombre_actual, nombre_fila_0 in zip(precios_2023.columns, nombres_columnas_fila_0)]\n",
    "\n",
    "# Asignar los nuevos nombres de columna al DataFrame (omitir la primera fila)\n",
    "precios_2023.columns = nuevos_nombres_columnas\n",
    "precios_2023 = precios_2023[1:].reset_index(drop=True)\n",
    "\n",
    "# Cambiando el nombre de la ultima columna\n",
    "precios_2023.rename(columns={'Unnamed: 7 (GTQ/LB)': 'Glp Cilindro 25Lbs. 7 (GTQ/LB)'}, inplace=True)"
   ]
  },
  {
   "cell_type": "code",
   "execution_count": 466,
   "metadata": {},
   "outputs": [],
   "source": [
    "# Obtener los valores de la fila 0 (nombres de columna alternativos)\n",
    "nombres_columnas_fila_0 = precios_2022.iloc[0]\n",
    "\n",
    "# Crear nuevos nombres de columna combinando los nombres actuales con los de la fila 0\n",
    "nuevos_nombres_columnas = [f\"{nombre_actual} ({nombre_fila_0})\"\n",
    "                            if isinstance(nombre_fila_0, str) else nombre_actual\n",
    "                            for nombre_actual, nombre_fila_0 in zip(precios_2022.columns, nombres_columnas_fila_0)]\n",
    "\n",
    "# Asignar los nuevos nombres de columna al DataFrame (omitir la primera fila)\n",
    "precios_2022.columns = nuevos_nombres_columnas\n",
    "precios_2022 = precios_2022[1:].reset_index(drop=True)\n",
    "\n",
    "# Cambiando el nombre de la ultima columna\n",
    "precios_2022.rename(columns={'Unnamed: 7 (GTQ/LB)': 'Glp Cilindro 25Lbs. 7 (GTQ/LB)'}, inplace=True)"
   ]
  },
  {
   "cell_type": "code",
   "execution_count": 467,
   "metadata": {},
   "outputs": [],
   "source": [
    "# Obtener los valores de la fila 0 (nombres de columna alternativos)\n",
    "nombres_columnas_fila_0 = precios_2021.iloc[0]\n",
    "\n",
    "# Crear nuevos nombres de columna combinando los nombres actuales con los de la fila 0\n",
    "nuevos_nombres_columnas = [f\"{nombre_actual} ({nombre_fila_0})\"\n",
    "                            if isinstance(nombre_fila_0, str) else nombre_actual\n",
    "                            for nombre_actual, nombre_fila_0 in zip(precios_2021.columns, nombres_columnas_fila_0)]\n",
    "\n",
    "# Asignar los nuevos nombres de columna al DataFrame (omitir la primera fila)\n",
    "precios_2021.columns = nuevos_nombres_columnas\n",
    "precios_2021 = precios_2021[1:].reset_index(drop=True)\n",
    "\n",
    "# Cambiando el nombre de la ultima columna\n",
    "precios_2021.rename(columns={'Unnamed: 7 (GTQ/LB)': 'Glp Cilindro 25Lbs. 7 (GTQ/LB)'}, inplace=True)"
   ]
  },
  {
   "cell_type": "code",
   "execution_count": 468,
   "metadata": {},
   "outputs": [
    {
     "data": {
      "text/html": [
       "<div>\n",
       "<style scoped>\n",
       "    .dataframe tbody tr th:only-of-type {\n",
       "        vertical-align: middle;\n",
       "    }\n",
       "\n",
       "    .dataframe tbody tr th {\n",
       "        vertical-align: top;\n",
       "    }\n",
       "\n",
       "    .dataframe thead th {\n",
       "        text-align: right;\n",
       "    }\n",
       "</style>\n",
       "<table border=\"1\" class=\"dataframe\">\n",
       "  <thead>\n",
       "    <tr style=\"text-align: right;\">\n",
       "      <th></th>\n",
       "      <th>FECHA</th>\n",
       "      <th>Tipo de Cambio (GTQ/USD)</th>\n",
       "      <th>Superior (GTQ/GALON)</th>\n",
       "      <th>Regular (GTQ/GALON)</th>\n",
       "      <th>Diesel (GTQ/GALON)</th>\n",
       "      <th>Bunker (GTQ/GALON)</th>\n",
       "      <th>Glp Cilindro 25Lbs. (GTQ/CIL 25 LB)</th>\n",
       "      <th>Glp Cilindro 25Lbs. 7 (GTQ/LB)</th>\n",
       "    </tr>\n",
       "  </thead>\n",
       "  <tbody>\n",
       "    <tr>\n",
       "      <th>0</th>\n",
       "      <td>2023-01-01 00:00:00</td>\n",
       "      <td>7.85222</td>\n",
       "      <td>32.55</td>\n",
       "      <td>30.99</td>\n",
       "      <td>33.75</td>\n",
       "      <td>15.99</td>\n",
       "      <td>122</td>\n",
       "      <td>4.88</td>\n",
       "    </tr>\n",
       "    <tr>\n",
       "      <th>1</th>\n",
       "      <td>2023-01-02 00:00:00</td>\n",
       "      <td>7.85222</td>\n",
       "      <td>32.55</td>\n",
       "      <td>30.99</td>\n",
       "      <td>33.75</td>\n",
       "      <td>15.99</td>\n",
       "      <td>122</td>\n",
       "      <td>4.88</td>\n",
       "    </tr>\n",
       "    <tr>\n",
       "      <th>2</th>\n",
       "      <td>2023-01-03 00:00:00</td>\n",
       "      <td>7.84773</td>\n",
       "      <td>32.56</td>\n",
       "      <td>31.42</td>\n",
       "      <td>35.31</td>\n",
       "      <td>16.39</td>\n",
       "      <td>122</td>\n",
       "      <td>4.88</td>\n",
       "    </tr>\n",
       "    <tr>\n",
       "      <th>3</th>\n",
       "      <td>2023-01-04 00:00:00</td>\n",
       "      <td>7.84906</td>\n",
       "      <td>32.56</td>\n",
       "      <td>31.42</td>\n",
       "      <td>35.31</td>\n",
       "      <td>16.39</td>\n",
       "      <td>122</td>\n",
       "      <td>4.88</td>\n",
       "    </tr>\n",
       "    <tr>\n",
       "      <th>4</th>\n",
       "      <td>2023-01-05 00:00:00</td>\n",
       "      <td>7.85221</td>\n",
       "      <td>32.56</td>\n",
       "      <td>31.42</td>\n",
       "      <td>35.31</td>\n",
       "      <td>16.39</td>\n",
       "      <td>122</td>\n",
       "      <td>4.88</td>\n",
       "    </tr>\n",
       "  </tbody>\n",
       "</table>\n",
       "</div>"
      ],
      "text/plain": [
       "                 FECHA Tipo de Cambio (GTQ/USD) Superior (GTQ/GALON)  \\\n",
       "0  2023-01-01 00:00:00                  7.85222                32.55   \n",
       "1  2023-01-02 00:00:00                  7.85222                32.55   \n",
       "2  2023-01-03 00:00:00                  7.84773                32.56   \n",
       "3  2023-01-04 00:00:00                  7.84906                32.56   \n",
       "4  2023-01-05 00:00:00                  7.85221                32.56   \n",
       "\n",
       "  Regular (GTQ/GALON) Diesel (GTQ/GALON) Bunker (GTQ/GALON)  \\\n",
       "0               30.99              33.75              15.99   \n",
       "1               30.99              33.75              15.99   \n",
       "2               31.42              35.31              16.39   \n",
       "3               31.42              35.31              16.39   \n",
       "4               31.42              35.31              16.39   \n",
       "\n",
       "  Glp Cilindro 25Lbs. (GTQ/CIL 25 LB) Glp Cilindro 25Lbs. 7 (GTQ/LB)  \n",
       "0                                 122                           4.88  \n",
       "1                                 122                           4.88  \n",
       "2                                 122                           4.88  \n",
       "3                                 122                           4.88  \n",
       "4                                 122                           4.88  "
      ]
     },
     "execution_count": 468,
     "metadata": {},
     "output_type": "execute_result"
    }
   ],
   "source": [
    "precios_2023.head()"
   ]
  },
  {
   "cell_type": "code",
   "execution_count": 469,
   "metadata": {},
   "outputs": [
    {
     "data": {
      "text/html": [
       "<div>\n",
       "<style scoped>\n",
       "    .dataframe tbody tr th:only-of-type {\n",
       "        vertical-align: middle;\n",
       "    }\n",
       "\n",
       "    .dataframe tbody tr th {\n",
       "        vertical-align: top;\n",
       "    }\n",
       "\n",
       "    .dataframe thead th {\n",
       "        text-align: right;\n",
       "    }\n",
       "</style>\n",
       "<table border=\"1\" class=\"dataframe\">\n",
       "  <thead>\n",
       "    <tr style=\"text-align: right;\">\n",
       "      <th></th>\n",
       "      <th>FECHA</th>\n",
       "      <th>Tipo de Cambio (GTQ/USD)</th>\n",
       "      <th>Superior (GTQ/GALON)</th>\n",
       "      <th>Regular (GTQ/GALON)</th>\n",
       "      <th>Diesel (GTQ/GALON)</th>\n",
       "      <th>Bunker (GTQ/GALON)</th>\n",
       "      <th>Glp Cilindro 25Lbs. (GTQ/CIL 25 LB)</th>\n",
       "      <th>Glp Cilindro 25Lbs. 7 (GTQ/LB)</th>\n",
       "    </tr>\n",
       "  </thead>\n",
       "  <tbody>\n",
       "    <tr>\n",
       "      <th>0</th>\n",
       "      <td>2022-01-01 00:00:00</td>\n",
       "      <td>7.71912</td>\n",
       "      <td>28.69</td>\n",
       "      <td>27.91</td>\n",
       "      <td>24.51</td>\n",
       "      <td>17.28</td>\n",
       "      <td>122</td>\n",
       "      <td>4.88</td>\n",
       "    </tr>\n",
       "    <tr>\n",
       "      <th>1</th>\n",
       "      <td>2022-01-02 00:00:00</td>\n",
       "      <td>7.71912</td>\n",
       "      <td>28.69</td>\n",
       "      <td>27.91</td>\n",
       "      <td>24.51</td>\n",
       "      <td>17.28</td>\n",
       "      <td>122</td>\n",
       "      <td>4.88</td>\n",
       "    </tr>\n",
       "    <tr>\n",
       "      <th>2</th>\n",
       "      <td>2022-01-03 00:00:00</td>\n",
       "      <td>7.71912</td>\n",
       "      <td>28.79</td>\n",
       "      <td>27.99</td>\n",
       "      <td>24.6</td>\n",
       "      <td>17.91</td>\n",
       "      <td>122</td>\n",
       "      <td>4.88</td>\n",
       "    </tr>\n",
       "    <tr>\n",
       "      <th>3</th>\n",
       "      <td>2022-01-04 00:00:00</td>\n",
       "      <td>7.71745</td>\n",
       "      <td>28.79</td>\n",
       "      <td>27.99</td>\n",
       "      <td>24.6</td>\n",
       "      <td>17.91</td>\n",
       "      <td>122</td>\n",
       "      <td>4.88</td>\n",
       "    </tr>\n",
       "    <tr>\n",
       "      <th>4</th>\n",
       "      <td>2022-01-05 00:00:00</td>\n",
       "      <td>7.71558</td>\n",
       "      <td>28.79</td>\n",
       "      <td>27.99</td>\n",
       "      <td>24.6</td>\n",
       "      <td>17.91</td>\n",
       "      <td>122</td>\n",
       "      <td>4.88</td>\n",
       "    </tr>\n",
       "  </tbody>\n",
       "</table>\n",
       "</div>"
      ],
      "text/plain": [
       "                 FECHA Tipo de Cambio (GTQ/USD) Superior (GTQ/GALON)  \\\n",
       "0  2022-01-01 00:00:00                  7.71912                28.69   \n",
       "1  2022-01-02 00:00:00                  7.71912                28.69   \n",
       "2  2022-01-03 00:00:00                  7.71912                28.79   \n",
       "3  2022-01-04 00:00:00                  7.71745                28.79   \n",
       "4  2022-01-05 00:00:00                  7.71558                28.79   \n",
       "\n",
       "  Regular (GTQ/GALON) Diesel (GTQ/GALON) Bunker (GTQ/GALON)  \\\n",
       "0               27.91              24.51              17.28   \n",
       "1               27.91              24.51              17.28   \n",
       "2               27.99               24.6              17.91   \n",
       "3               27.99               24.6              17.91   \n",
       "4               27.99               24.6              17.91   \n",
       "\n",
       "  Glp Cilindro 25Lbs. (GTQ/CIL 25 LB) Glp Cilindro 25Lbs. 7 (GTQ/LB)  \n",
       "0                                 122                           4.88  \n",
       "1                                 122                           4.88  \n",
       "2                                 122                           4.88  \n",
       "3                                 122                           4.88  \n",
       "4                                 122                           4.88  "
      ]
     },
     "execution_count": 469,
     "metadata": {},
     "output_type": "execute_result"
    }
   ],
   "source": [
    "precios_2022.head()"
   ]
  },
  {
   "cell_type": "code",
   "execution_count": 470,
   "metadata": {},
   "outputs": [
    {
     "data": {
      "text/html": [
       "<div>\n",
       "<style scoped>\n",
       "    .dataframe tbody tr th:only-of-type {\n",
       "        vertical-align: middle;\n",
       "    }\n",
       "\n",
       "    .dataframe tbody tr th {\n",
       "        vertical-align: top;\n",
       "    }\n",
       "\n",
       "    .dataframe thead th {\n",
       "        text-align: right;\n",
       "    }\n",
       "</style>\n",
       "<table border=\"1\" class=\"dataframe\">\n",
       "  <thead>\n",
       "    <tr style=\"text-align: right;\">\n",
       "      <th></th>\n",
       "      <th>FECHA</th>\n",
       "      <th>Tipo de Cambio (GTQ/USD)</th>\n",
       "      <th>Superior (GTQ/GALON)</th>\n",
       "      <th>Regular (GTQ/GALON)</th>\n",
       "      <th>Diesel (GTQ/GALON)</th>\n",
       "      <th>Bunker (GTQ/GALON)</th>\n",
       "      <th>Glp Cilindro 25Lbs. (GTQ/CIL 25 LB)</th>\n",
       "      <th>Glp Cilindro 25Lbs. 7 (GTQ/LB)</th>\n",
       "    </tr>\n",
       "  </thead>\n",
       "  <tbody>\n",
       "    <tr>\n",
       "      <th>0</th>\n",
       "      <td>2021-01-01 00:00:00</td>\n",
       "      <td>7.79382</td>\n",
       "      <td>21.91</td>\n",
       "      <td>21.11</td>\n",
       "      <td>17.61</td>\n",
       "      <td>13.4</td>\n",
       "      <td>99</td>\n",
       "      <td>3.96</td>\n",
       "    </tr>\n",
       "    <tr>\n",
       "      <th>1</th>\n",
       "      <td>2021-01-02 00:00:00</td>\n",
       "      <td>7.79382</td>\n",
       "      <td>21.91</td>\n",
       "      <td>21.11</td>\n",
       "      <td>17.61</td>\n",
       "      <td>13.4</td>\n",
       "      <td>99</td>\n",
       "      <td>3.96</td>\n",
       "    </tr>\n",
       "    <tr>\n",
       "      <th>2</th>\n",
       "      <td>2021-01-03 00:00:00</td>\n",
       "      <td>7.79382</td>\n",
       "      <td>21.91</td>\n",
       "      <td>21.11</td>\n",
       "      <td>17.61</td>\n",
       "      <td>13.4</td>\n",
       "      <td>99</td>\n",
       "      <td>3.96</td>\n",
       "    </tr>\n",
       "    <tr>\n",
       "      <th>3</th>\n",
       "      <td>2021-01-04 00:00:00</td>\n",
       "      <td>7.79417</td>\n",
       "      <td>21.91</td>\n",
       "      <td>21.11</td>\n",
       "      <td>17.61</td>\n",
       "      <td>13.45</td>\n",
       "      <td>99</td>\n",
       "      <td>3.96</td>\n",
       "    </tr>\n",
       "    <tr>\n",
       "      <th>4</th>\n",
       "      <td>2021-01-05 00:00:00</td>\n",
       "      <td>7.79369</td>\n",
       "      <td>21.91</td>\n",
       "      <td>21.11</td>\n",
       "      <td>17.61</td>\n",
       "      <td>13.45</td>\n",
       "      <td>99</td>\n",
       "      <td>3.96</td>\n",
       "    </tr>\n",
       "  </tbody>\n",
       "</table>\n",
       "</div>"
      ],
      "text/plain": [
       "                 FECHA Tipo de Cambio (GTQ/USD) Superior (GTQ/GALON)  \\\n",
       "0  2021-01-01 00:00:00                  7.79382                21.91   \n",
       "1  2021-01-02 00:00:00                  7.79382                21.91   \n",
       "2  2021-01-03 00:00:00                  7.79382                21.91   \n",
       "3  2021-01-04 00:00:00                  7.79417                21.91   \n",
       "4  2021-01-05 00:00:00                  7.79369                21.91   \n",
       "\n",
       "  Regular (GTQ/GALON) Diesel (GTQ/GALON) Bunker (GTQ/GALON)  \\\n",
       "0               21.11              17.61               13.4   \n",
       "1               21.11              17.61               13.4   \n",
       "2               21.11              17.61               13.4   \n",
       "3               21.11              17.61              13.45   \n",
       "4               21.11              17.61              13.45   \n",
       "\n",
       "  Glp Cilindro 25Lbs. (GTQ/CIL 25 LB) Glp Cilindro 25Lbs. 7 (GTQ/LB)  \n",
       "0                                  99                           3.96  \n",
       "1                                  99                           3.96  \n",
       "2                                  99                           3.96  \n",
       "3                                  99                           3.96  \n",
       "4                                  99                           3.96  "
      ]
     },
     "execution_count": 470,
     "metadata": {},
     "output_type": "execute_result"
    }
   ],
   "source": [
    "precios_2021.head()"
   ]
  },
  {
   "cell_type": "markdown",
   "metadata": {},
   "source": [
    "---------------------------"
   ]
  },
  {
   "cell_type": "code",
   "execution_count": 471,
   "metadata": {},
   "outputs": [],
   "source": [
    "\n",
    "# Uniendo las 3 hojas\n",
    "precios = pd.concat([precios_2023, precios_2022, precios_2021], ignore_index=True)\n"
   ]
  },
  {
   "cell_type": "markdown",
   "metadata": {},
   "source": [
    "## Importacion"
   ]
  },
  {
   "cell_type": "code",
   "execution_count": 472,
   "metadata": {},
   "outputs": [
    {
     "data": {
      "image/png": "[encoded data removed]",
      "text/plain": [
       "<Figure size 360x360 with 1 Axes>"
      ]
     },
     "metadata": {
      "needs_background": "light"
     },
     "output_type": "display_data"
    },
    {
     "data": {
      "image/png": "[encoded data removed]",
      "text/plain": [
       "<Figure size 360x360 with 1 Axes>"
      ]
     },
     "metadata": {
      "needs_background": "light"
     },
     "output_type": "display_data"
    },
    {
     "data": {
      "image/png": "[encoded data removed]",
      "text/plain": [
       "<Figure size 360x360 with 1 Axes>"
      ]
     },
     "metadata": {
      "needs_background": "light"
     },
     "output_type": "display_data"
    },
    {
     "data": {
      "image/png": "[encoded data removed]",
      "text/plain": [
       "<Figure size 360x360 with 1 Axes>"
      ]
     },
     "metadata": {
      "needs_background": "light"
     },
     "output_type": "display_data"
    }
   ],
   "source": [
    "for var in Seleccion:\n",
    "    sns.displot(importas[var], kde=True, color = 'lightgreen')"
   ]
  },
  {
   "cell_type": "markdown",
   "metadata": {},
   "source": [
    "## Consumo"
   ]
  },
  {
   "cell_type": "code",
   "execution_count": 473,
   "metadata": {},
   "outputs": [
    {
     "data": {
      "image/png": "[encoded data removed]",
      "text/plain": [
       "<Figure size 360x360 with 1 Axes>"
      ]
     },
     "metadata": {
      "needs_background": "light"
     },
     "output_type": "display_data"
    },
    {
     "data": {
      "image/png": "[encoded data removed]",
      "text/plain": [
       "<Figure size 360x360 with 1 Axes>"
      ]
     },
     "metadata": {
      "needs_background": "light"
     },
     "output_type": "display_data"
    },
    {
     "data": {
      "image/png": "[encoded data removed]",
      "text/plain": [
       "<Figure size 360x360 with 1 Axes>"
      ]
     },
     "metadata": {
      "needs_background": "light"
     },
     "output_type": "display_data"
    },
    {
     "data": {
      "image/png": "[encoded data removed]",
      "text/plain": [
       "<Figure size 360x360 with 1 Axes>"
      ]
     },
     "metadata": {
      "needs_background": "light"
     },
     "output_type": "display_data"
    }
   ],
   "source": [
    "for var in Seleccion:\n",
    "    sns.displot(consumas[var], kde=True, color='darkblue')"
   ]
  },
  {
   "cell_type": "markdown",
   "metadata": {},
   "source": [
    "## Precios"
   ]
  },
  {
   "cell_type": "code",
   "execution_count": 474,
   "metadata": {},
   "outputs": [],
   "source": [
    "columnas_seleccion = ['FECHA', 'Tipo de Cambio (GTQ/USD)', 'Superior (GTQ/GALON)',\n",
    "                      'Regular (GTQ/GALON)', 'Diesel (GTQ/GALON)', 'Bunker (GTQ/GALON)',\n",
    "                      'Glp Cilindro 25Lbs. (GTQ/CIL 25 LB)',\n",
    "                      'Glp Cilindro 25Lbs. 7 (GTQ/LB)']"
   ]
  },
  {
   "cell_type": "code",
   "execution_count": 476,
   "metadata": {},
   "outputs": [
    {
     "name": "stdout",
     "output_type": "stream",
     "text": [
      "Error al generar el gráfico para 'FECHA': Failed to convert value(s) to axis units: 0                                    2021-01-01 00:00:00\n",
      "1                                    2021-01-02 00:00:00\n",
      "2                                    2021-01-03 00:00:00\n",
      "3                                    2021-01-04 00:00:00\n",
      "4                                    2021-01-05 00:00:00\n",
      "                             ...                        \n",
      "362                                  2021-12-29 00:00:00\n",
      "363                                  2021-12-30 00:00:00\n",
      "364                                  2021-12-31 00:00:00\n",
      "365    Fuente precios nacionales: Sección Comercializ...\n",
      "366           Fuente tipo de cambio: Banco de Guatemala.\n",
      "Name: x, Length: 367, dtype: object\n"
     ]
    },
    {
     "data": {
      "image/png": "[encoded data removed]",
      "text/plain": [
       "<Figure size 360x360 with 1 Axes>"
      ]
     },
     "metadata": {
      "needs_background": "light"
     },
     "output_type": "display_data"
    },
    {
     "data": {
      "image/png": "[encoded data removed]",
      "text/plain": [
       "<Figure size 360x360 with 1 Axes>"
      ]
     },
     "metadata": {
      "needs_background": "light"
     },
     "output_type": "display_data"
    },
    {
     "data": {
      "image/png": "[encoded data removed]",
      "text/plain": [
       "<Figure size 360x360 with 1 Axes>"
      ]
     },
     "metadata": {
      "needs_background": "light"
     },
     "output_type": "display_data"
    },
    {
     "data": {
      "image/png": "[encoded data removed]",
      "text/plain": [
       "<Figure size 360x360 with 1 Axes>"
      ]
     },
     "metadata": {
      "needs_background": "light"
     },
     "output_type": "display_data"
    },
    {
     "data": {
      "image/png": "[encoded data removed]",
      "text/plain": [
       "<Figure size 360x360 with 1 Axes>"
      ]
     },
     "metadata": {
      "needs_background": "light"
     },
     "output_type": "display_data"
    },
    {
     "data": {
      "image/png": "[encoded data removed]",
      "text/plain": [
       "<Figure size 360x360 with 1 Axes>"
      ]
     },
     "metadata": {
      "needs_background": "light"
     },
     "output_type": "display_data"
    },
    {
     "data": {
      "image/png": "[encoded data removed]",
      "text/plain": [
       "<Figure size 360x360 with 1 Axes>"
      ]
     },
     "metadata": {
      "needs_background": "light"
     },
     "output_type": "display_data"
    },
    {
     "data": {
      "image/png": "[encoded data removed]",
      "text/plain": [
       "<Figure size 360x360 with 1 Axes>"
      ]
     },
     "metadata": {
      "needs_background": "light"
     },
     "output_type": "display_data"
    }
   ],
   "source": [
    "\n",
    "# Iterar a través de las columnas y generar los gráficos\n",
    "for col in columnas_seleccion:\n",
    "    try:\n",
    "        sns.displot(precios_2021[col], kde=True, color='darkorange')\n",
    "        plt.title(f'Distribución de {col}')\n",
    "        plt.show()\n",
    "    except Exception as e:\n",
    "        print(f\"Error al generar el gráfico para '{col}': {e}\")"
   ]
  }
 ],
 "metadata": {
  "kernelspec": {
   "display_name": "Python 3 (ipykernel)",
   "language": "python",
   "name": "python3"
  },
  "language_info": {
   "codemirror_mode": {
    "name": "ipython",
    "version": 3
   },
   "file_extension": ".py",
   "mimetype": "text/x-python",
   "name": "python",
   "nbconvert_exporter": "python",
   "pygments_lexer": "ipython3",
   "version": "3.9.7"
  }
 },
 "nbformat": 4,
 "nbformat_minor": 2
}
